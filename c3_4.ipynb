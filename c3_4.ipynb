{
  "nbformat": 4,
  "nbformat_minor": 0,
  "metadata": {
    "colab": {
      "provenance": [],
      "authorship_tag": "ABX9TyMklNny64n37DTA4b6zlE5o",
      "include_colab_link": true
    },
    "kernelspec": {
      "name": "python3",
      "display_name": "Python 3"
    },
    "language_info": {
      "name": "python"
    }
  },
  "cells": [
    {
      "cell_type": "markdown",
      "metadata": {
        "id": "view-in-github",
        "colab_type": "text"
      },
      "source": [
        "<a href=\"https://colab.research.google.com/github/Tung-Git-Hub/c3-4/blob/main/c3_4.ipynb\" target=\"_parent\"><img src=\"https://colab.research.google.com/assets/colab-badge.svg\" alt=\"Open In Colab\"/></a>"
      ]
    },
    {
      "cell_type": "code",
      "source": [
        "from sklearn.metrics import accuracy_score,classification_report\n",
        "import pandas as pd\n",
        "from sklearn.preprocessing import MinMaxScaler\n",
        "import numpy as np\n",
        "from sklearn.ensemble import RandomForestClassifier\n",
        "from imblearn.over_sampling import SMOTE"
      ],
      "metadata": {
        "id": "M6qg9pHtD4Fu"
      },
      "execution_count": null,
      "outputs": []
    },
    {
      "cell_type": "code",
      "source": [
        "#ham split train test\n",
        "def shuffle_split_data(X, y):\n",
        "    arr_rand = np.random.rand(X.shape[0])\n",
        "    split = arr_rand < np.percentile(arr_rand, 70)\n",
        "    #split = np.random.rand(X.shape[0]) < 0.7\n",
        "\n",
        "    X_Train = X[split]\n",
        "    y_Train = y[split]\n",
        "    X_Test =  X[~split]\n",
        "    y_Test = y[~split]\n",
        "    return X_Train, y_Train, X_Test, y_Test"
      ],
      "metadata": {
        "id": "IS1hqS55EAqp"
      },
      "execution_count": null,
      "outputs": []
    },
    {
      "cell_type": "code",
      "source": [
        "df = pd.read_csv('/smoke_detection_iot.csv')\n",
        "df.head()"
      ],
      "metadata": {
        "colab": {
          "base_uri": "https://localhost:8080/",
          "height": 206
        },
        "id": "ce3iD9eQECtQ",
        "outputId": "c00013a7-d540-4c14-9e56-28441ed3e0a3"
      },
      "execution_count": null,
      "outputs": [
        {
          "output_type": "execute_result",
          "data": {
            "text/plain": [
              "   Unnamed: 0         UTC  Temperature[C]  Humidity[%]  TVOC[ppb]  eCO2[ppm]  \\\n",
              "0           0  1654733331          20.000        57.36          0        400   \n",
              "1           1  1654733332          20.015        56.67          0        400   \n",
              "2           2  1654733333          20.029        55.96          0        400   \n",
              "3           3  1654733334          20.044        55.28          0        400   \n",
              "4           4  1654733335          20.059        54.69          0        400   \n",
              "\n",
              "   Raw H2  Raw Ethanol  Pressure[hPa]  PM1.0  PM2.5  NC0.5  NC1.0  NC2.5  CNT  \\\n",
              "0   12306        18520        939.735    0.0    0.0    0.0    0.0    0.0    0   \n",
              "1   12345        18651        939.744    0.0    0.0    0.0    0.0    0.0    1   \n",
              "2   12374        18764        939.738    0.0    0.0    0.0    0.0    0.0    2   \n",
              "3   12390        18849        939.736    0.0    0.0    0.0    0.0    0.0    3   \n",
              "4   12403        18921        939.744    0.0    0.0    0.0    0.0    0.0    4   \n",
              "\n",
              "   Fire Alarm  \n",
              "0           0  \n",
              "1           0  \n",
              "2           0  \n",
              "3           0  \n",
              "4           0  "
            ],
            "text/html": [
              "\n",
              "  <div id=\"df-e27181f6-3eed-44cc-9283-3e85eb236c3f\">\n",
              "    <div class=\"colab-df-container\">\n",
              "      <div>\n",
              "<style scoped>\n",
              "    .dataframe tbody tr th:only-of-type {\n",
              "        vertical-align: middle;\n",
              "    }\n",
              "\n",
              "    .dataframe tbody tr th {\n",
              "        vertical-align: top;\n",
              "    }\n",
              "\n",
              "    .dataframe thead th {\n",
              "        text-align: right;\n",
              "    }\n",
              "</style>\n",
              "<table border=\"1\" class=\"dataframe\">\n",
              "  <thead>\n",
              "    <tr style=\"text-align: right;\">\n",
              "      <th></th>\n",
              "      <th>Unnamed: 0</th>\n",
              "      <th>UTC</th>\n",
              "      <th>Temperature[C]</th>\n",
              "      <th>Humidity[%]</th>\n",
              "      <th>TVOC[ppb]</th>\n",
              "      <th>eCO2[ppm]</th>\n",
              "      <th>Raw H2</th>\n",
              "      <th>Raw Ethanol</th>\n",
              "      <th>Pressure[hPa]</th>\n",
              "      <th>PM1.0</th>\n",
              "      <th>PM2.5</th>\n",
              "      <th>NC0.5</th>\n",
              "      <th>NC1.0</th>\n",
              "      <th>NC2.5</th>\n",
              "      <th>CNT</th>\n",
              "      <th>Fire Alarm</th>\n",
              "    </tr>\n",
              "  </thead>\n",
              "  <tbody>\n",
              "    <tr>\n",
              "      <th>0</th>\n",
              "      <td>0</td>\n",
              "      <td>1654733331</td>\n",
              "      <td>20.000</td>\n",
              "      <td>57.36</td>\n",
              "      <td>0</td>\n",
              "      <td>400</td>\n",
              "      <td>12306</td>\n",
              "      <td>18520</td>\n",
              "      <td>939.735</td>\n",
              "      <td>0.0</td>\n",
              "      <td>0.0</td>\n",
              "      <td>0.0</td>\n",
              "      <td>0.0</td>\n",
              "      <td>0.0</td>\n",
              "      <td>0</td>\n",
              "      <td>0</td>\n",
              "    </tr>\n",
              "    <tr>\n",
              "      <th>1</th>\n",
              "      <td>1</td>\n",
              "      <td>1654733332</td>\n",
              "      <td>20.015</td>\n",
              "      <td>56.67</td>\n",
              "      <td>0</td>\n",
              "      <td>400</td>\n",
              "      <td>12345</td>\n",
              "      <td>18651</td>\n",
              "      <td>939.744</td>\n",
              "      <td>0.0</td>\n",
              "      <td>0.0</td>\n",
              "      <td>0.0</td>\n",
              "      <td>0.0</td>\n",
              "      <td>0.0</td>\n",
              "      <td>1</td>\n",
              "      <td>0</td>\n",
              "    </tr>\n",
              "    <tr>\n",
              "      <th>2</th>\n",
              "      <td>2</td>\n",
              "      <td>1654733333</td>\n",
              "      <td>20.029</td>\n",
              "      <td>55.96</td>\n",
              "      <td>0</td>\n",
              "      <td>400</td>\n",
              "      <td>12374</td>\n",
              "      <td>18764</td>\n",
              "      <td>939.738</td>\n",
              "      <td>0.0</td>\n",
              "      <td>0.0</td>\n",
              "      <td>0.0</td>\n",
              "      <td>0.0</td>\n",
              "      <td>0.0</td>\n",
              "      <td>2</td>\n",
              "      <td>0</td>\n",
              "    </tr>\n",
              "    <tr>\n",
              "      <th>3</th>\n",
              "      <td>3</td>\n",
              "      <td>1654733334</td>\n",
              "      <td>20.044</td>\n",
              "      <td>55.28</td>\n",
              "      <td>0</td>\n",
              "      <td>400</td>\n",
              "      <td>12390</td>\n",
              "      <td>18849</td>\n",
              "      <td>939.736</td>\n",
              "      <td>0.0</td>\n",
              "      <td>0.0</td>\n",
              "      <td>0.0</td>\n",
              "      <td>0.0</td>\n",
              "      <td>0.0</td>\n",
              "      <td>3</td>\n",
              "      <td>0</td>\n",
              "    </tr>\n",
              "    <tr>\n",
              "      <th>4</th>\n",
              "      <td>4</td>\n",
              "      <td>1654733335</td>\n",
              "      <td>20.059</td>\n",
              "      <td>54.69</td>\n",
              "      <td>0</td>\n",
              "      <td>400</td>\n",
              "      <td>12403</td>\n",
              "      <td>18921</td>\n",
              "      <td>939.744</td>\n",
              "      <td>0.0</td>\n",
              "      <td>0.0</td>\n",
              "      <td>0.0</td>\n",
              "      <td>0.0</td>\n",
              "      <td>0.0</td>\n",
              "      <td>4</td>\n",
              "      <td>0</td>\n",
              "    </tr>\n",
              "  </tbody>\n",
              "</table>\n",
              "</div>\n",
              "      <button class=\"colab-df-convert\" onclick=\"convertToInteractive('df-e27181f6-3eed-44cc-9283-3e85eb236c3f')\"\n",
              "              title=\"Convert this dataframe to an interactive table.\"\n",
              "              style=\"display:none;\">\n",
              "        \n",
              "  <svg xmlns=\"http://www.w3.org/2000/svg\" height=\"24px\"viewBox=\"0 0 24 24\"\n",
              "       width=\"24px\">\n",
              "    <path d=\"M0 0h24v24H0V0z\" fill=\"none\"/>\n",
              "    <path d=\"M18.56 5.44l.94 2.06.94-2.06 2.06-.94-2.06-.94-.94-2.06-.94 2.06-2.06.94zm-11 1L8.5 8.5l.94-2.06 2.06-.94-2.06-.94L8.5 2.5l-.94 2.06-2.06.94zm10 10l.94 2.06.94-2.06 2.06-.94-2.06-.94-.94-2.06-.94 2.06-2.06.94z\"/><path d=\"M17.41 7.96l-1.37-1.37c-.4-.4-.92-.59-1.43-.59-.52 0-1.04.2-1.43.59L10.3 9.45l-7.72 7.72c-.78.78-.78 2.05 0 2.83L4 21.41c.39.39.9.59 1.41.59.51 0 1.02-.2 1.41-.59l7.78-7.78 2.81-2.81c.8-.78.8-2.07 0-2.86zM5.41 20L4 18.59l7.72-7.72 1.47 1.35L5.41 20z\"/>\n",
              "  </svg>\n",
              "      </button>\n",
              "      \n",
              "  <style>\n",
              "    .colab-df-container {\n",
              "      display:flex;\n",
              "      flex-wrap:wrap;\n",
              "      gap: 12px;\n",
              "    }\n",
              "\n",
              "    .colab-df-convert {\n",
              "      background-color: #E8F0FE;\n",
              "      border: none;\n",
              "      border-radius: 50%;\n",
              "      cursor: pointer;\n",
              "      display: none;\n",
              "      fill: #1967D2;\n",
              "      height: 32px;\n",
              "      padding: 0 0 0 0;\n",
              "      width: 32px;\n",
              "    }\n",
              "\n",
              "    .colab-df-convert:hover {\n",
              "      background-color: #E2EBFA;\n",
              "      box-shadow: 0px 1px 2px rgba(60, 64, 67, 0.3), 0px 1px 3px 1px rgba(60, 64, 67, 0.15);\n",
              "      fill: #174EA6;\n",
              "    }\n",
              "\n",
              "    [theme=dark] .colab-df-convert {\n",
              "      background-color: #3B4455;\n",
              "      fill: #D2E3FC;\n",
              "    }\n",
              "\n",
              "    [theme=dark] .colab-df-convert:hover {\n",
              "      background-color: #434B5C;\n",
              "      box-shadow: 0px 1px 3px 1px rgba(0, 0, 0, 0.15);\n",
              "      filter: drop-shadow(0px 1px 2px rgba(0, 0, 0, 0.3));\n",
              "      fill: #FFFFFF;\n",
              "    }\n",
              "  </style>\n",
              "\n",
              "      <script>\n",
              "        const buttonEl =\n",
              "          document.querySelector('#df-e27181f6-3eed-44cc-9283-3e85eb236c3f button.colab-df-convert');\n",
              "        buttonEl.style.display =\n",
              "          google.colab.kernel.accessAllowed ? 'block' : 'none';\n",
              "\n",
              "        async function convertToInteractive(key) {\n",
              "          const element = document.querySelector('#df-e27181f6-3eed-44cc-9283-3e85eb236c3f');\n",
              "          const dataTable =\n",
              "            await google.colab.kernel.invokeFunction('convertToInteractive',\n",
              "                                                     [key], {});\n",
              "          if (!dataTable) return;\n",
              "\n",
              "          const docLinkHtml = 'Like what you see? Visit the ' +\n",
              "            '<a target=\"_blank\" href=https://colab.research.google.com/notebooks/data_table.ipynb>data table notebook</a>'\n",
              "            + ' to learn more about interactive tables.';\n",
              "          element.innerHTML = '';\n",
              "          dataTable['output_type'] = 'display_data';\n",
              "          await google.colab.output.renderOutput(dataTable, element);\n",
              "          const docLink = document.createElement('div');\n",
              "          docLink.innerHTML = docLinkHtml;\n",
              "          element.appendChild(docLink);\n",
              "        }\n",
              "      </script>\n",
              "    </div>\n",
              "  </div>\n",
              "  "
            ]
          },
          "metadata": {},
          "execution_count": 21
        }
      ]
    },
    {
      "cell_type": "code",
      "source": [
        "df.isnull().sum()"
      ],
      "metadata": {
        "colab": {
          "base_uri": "https://localhost:8080/"
        },
        "id": "JQLAOSdBFdBd",
        "outputId": "69ce4794-3c1f-4bf5-a94d-0d38fc418811"
      },
      "execution_count": null,
      "outputs": [
        {
          "output_type": "execute_result",
          "data": {
            "text/plain": [
              "Unnamed: 0        0\n",
              "UTC               0\n",
              "Temperature[C]    0\n",
              "Humidity[%]       0\n",
              "TVOC[ppb]         0\n",
              "eCO2[ppm]         0\n",
              "Raw H2            0\n",
              "Raw Ethanol       0\n",
              "Pressure[hPa]     0\n",
              "PM1.0             0\n",
              "PM2.5             0\n",
              "NC0.5             0\n",
              "NC1.0             0\n",
              "NC2.5             0\n",
              "CNT               0\n",
              "Fire Alarm        0\n",
              "dtype: int64"
            ]
          },
          "metadata": {},
          "execution_count": 22
        }
      ]
    },
    {
      "cell_type": "code",
      "source": [
        "df.drop(columns = ['Unnamed: 0','UTC'],axis = 1,inplace = True)\n",
        "df.drop(columns = ['NC1.0','PM1.0'],axis = 1,inplace =True)"
      ],
      "metadata": {
        "id": "vY_J6-zwFehX"
      },
      "execution_count": null,
      "outputs": []
    },
    {
      "cell_type": "code",
      "source": [
        "X=df.drop(columns = ['Fire Alarm'])\n",
        "y=df['Fire Alarm']"
      ],
      "metadata": {
        "id": "JZpW8ab_Fej8"
      },
      "execution_count": null,
      "outputs": []
    },
    {
      "cell_type": "code",
      "source": [
        "scale = MinMaxScaler()\n",
        "X_scaled=pd.DataFrame(scale.fit_transform(X),columns=X.columns)"
      ],
      "metadata": {
        "id": "33hAEsC8Feqp"
      },
      "execution_count": null,
      "outputs": []
    },
    {
      "cell_type": "code",
      "source": [
        "#split data\n",
        "x_train,y_train,x_test,y_test = shuffle_split_data(X_scaled,y)\n",
        "print(x_train,y_train,x_test,y_test)"
      ],
      "metadata": {
        "colab": {
          "base_uri": "https://localhost:8080/"
        },
        "id": "ACo9R5tqFm1H",
        "outputId": "74a7de66-e467-487e-da68-59fe3f3810ae"
      },
      "execution_count": null,
      "outputs": [
        {
          "output_type": "stream",
          "name": "stdout",
          "text": [
            "       Temperature[C]  Humidity[%]  TVOC[ppb]  eCO2[ppm]    Raw H2  \\\n",
            "3            0.513229     0.690971   0.000000        0.0  0.549282   \n",
            "4            0.513412     0.681818   0.000000        0.0  0.553429   \n",
            "5            0.513583     0.672975   0.000000        0.0  0.558533   \n",
            "8            0.514120     0.652653   0.000000        0.0  0.567783   \n",
            "9            0.514303     0.647223   0.000000        0.0  0.569378   \n",
            "...               ...          ...        ...        ...       ...   \n",
            "62622        0.485843     0.078343   0.010617        0.0  0.971930   \n",
            "62623        0.488431     0.078188   0.010833        0.0  0.968102   \n",
            "62624        0.491030     0.078653   0.010500        0.0  0.973206   \n",
            "62625        0.493629     0.078343   0.010417        0.0  0.974482   \n",
            "62626        0.496253     0.079584   0.010200        0.0  0.977033   \n",
            "\n",
            "       Raw Ethanol  Pressure[hPa]     PM2.5     NC0.5         NC2.5       CNT  \n",
            "3         0.579682       0.986125  0.000000  0.000000  0.000000e+00  0.000120  \n",
            "4         0.591498       0.987013  0.000000  0.000000  0.000000e+00  0.000160  \n",
            "5         0.604136       0.984904  0.000000  0.000000  0.000000e+00  0.000200  \n",
            "8         0.629903       0.988567  0.000000  0.000000  0.000000e+00  0.000320  \n",
            "9         0.636468       0.988345  0.000083  0.000000  9.258507e-05  0.000360  \n",
            "...            ...            ...       ...       ...           ...       ...  \n",
            "62622     0.858854       0.646354  0.000015  0.000074  5.328637e-07  0.229504  \n",
            "62623     0.858198       0.646132  0.000015  0.000074  5.328637e-07  0.229544  \n",
            "62624     0.861152       0.644578  0.000015  0.000074  5.328637e-07  0.229584  \n",
            "62625     0.861973       0.645799  0.000014  0.000070  4.995598e-07  0.229624  \n",
            "62626     0.865091       0.646687  0.000014  0.000068  4.995598e-07  0.229664  \n",
            "\n",
            "[43841 rows x 11 columns] 3        0\n",
            "4        0\n",
            "5        0\n",
            "8        0\n",
            "9        0\n",
            "        ..\n",
            "62622    0\n",
            "62623    0\n",
            "62624    0\n",
            "62625    0\n",
            "62626    0\n",
            "Name: Fire Alarm, Length: 43841, dtype: int64        Temperature[C]  Humidity[%]  TVOC[ppb]  eCO2[ppm]    Raw H2  \\\n",
            "0            0.512692     0.723239   0.000000        0.0  0.522488   \n",
            "1            0.512875     0.712535   0.000000        0.0  0.534928   \n",
            "2            0.513046     0.701520   0.000000        0.0  0.544179   \n",
            "6            0.513766     0.665064   0.000000        0.0  0.562679   \n",
            "7            0.513949     0.658703   0.000000        0.0  0.564912   \n",
            "...               ...          ...        ...        ...       ...   \n",
            "62616        0.470466     0.077723   0.010783        0.0  0.970335   \n",
            "62620        0.480681     0.077723   0.010350        0.0  0.975120   \n",
            "62627        0.498865     0.079119   0.010450        0.0  0.975120   \n",
            "62628        0.501501     0.082222   0.010633        0.0  0.970973   \n",
            "62629        0.504137     0.089668   0.010717        0.0  0.965869   \n",
            "\n",
            "       Raw Ethanol  Pressure[hPa]     PM2.5     NC0.5         NC2.5       CNT  \n",
            "0         0.525685       0.986014  0.000000  0.000000  0.000000e+00  0.000000  \n",
            "1         0.547185       0.987013  0.000000  0.000000  0.000000e+00  0.000040  \n",
            "2         0.565731       0.986347  0.000000  0.000000  0.000000e+00  0.000080  \n",
            "6         0.613983       0.986347  0.000000  0.000000  0.000000e+00  0.000240  \n",
            "7         0.623174       0.988567  0.000000  0.000000  0.000000e+00  0.000280  \n",
            "...            ...            ...       ...       ...           ...       ...  \n",
            "62616     0.859019       0.641470  0.000011  0.000054  3.996478e-07  0.229264  \n",
            "62620     0.862137       0.644245  0.000013  0.000066  4.662558e-07  0.229424  \n",
            "62627     0.864106       0.647686  0.000013  0.000064  4.662558e-07  0.229704  \n",
            "62628     0.861480       0.646909  0.000013  0.000064  4.662558e-07  0.229744  \n",
            "62629     0.857706       0.646465  0.000013  0.000063  4.662558e-07  0.229784  \n",
            "\n",
            "[18789 rows x 11 columns] 0        0\n",
            "1        0\n",
            "2        0\n",
            "6        0\n",
            "7        0\n",
            "        ..\n",
            "62616    0\n",
            "62620    0\n",
            "62627    0\n",
            "62628    0\n",
            "62629    0\n",
            "Name: Fire Alarm, Length: 18789, dtype: int64\n"
          ]
        }
      ]
    },
    {
      "cell_type": "code",
      "source": [
        "#train model và accuary tham khảo\n",
        "smote = SMOTE()\n",
        "x_train_smote, y_train_smote = smote.fit_resample(x_train, y_train)\n",
        "model=RandomForestClassifier()\n",
        "#fit model\n",
        "model.fit(x_train_smote, y_train_smote)\n",
        "y_pred_test=model.predict(x_test)\n",
        "y_pred_train=model.predict(x_train_smote)\n",
        "test_acc = accuracy_score(y_test,y_pred_test)\n",
        "train_acc = accuracy_score(y_train_smote,y_pred_train)\n",
        "print('test_acc: ', test_acc)\n",
        "print('train_acc: ', train_acc)\n",
        "print(pd.crosstab(y_test,y_pred_test))\n",
        "print(classification_report(y_test, y_pred_test))"
      ],
      "metadata": {
        "colab": {
          "base_uri": "https://localhost:8080/"
        },
        "id": "XKUIGkQuFm3q",
        "outputId": "db612f17-24d1-4785-e0a6-f4347dd15448"
      },
      "execution_count": null,
      "outputs": [
        {
          "output_type": "stream",
          "name": "stdout",
          "text": [
            "test_acc:  0.9998403321092129\n",
            "train_acc:  1.0\n",
            "col_0          0      1\n",
            "Fire Alarm             \n",
            "0           5315      0\n",
            "1              3  13471\n",
            "              precision    recall  f1-score   support\n",
            "\n",
            "           0       1.00      1.00      1.00      5315\n",
            "           1       1.00      1.00      1.00     13474\n",
            "\n",
            "    accuracy                           1.00     18789\n",
            "   macro avg       1.00      1.00      1.00     18789\n",
            "weighted avg       1.00      1.00      1.00     18789\n",
            "\n"
          ]
        }
      ]
    }
  ]
}